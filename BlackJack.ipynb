{
 "cells": [
  {
   "cell_type": "code",
   "execution_count": 92,
   "metadata": {},
   "outputs": [],
   "source": [
    "from random import shuffle\n",
    "\n",
    "playing=True\n",
    "suits = ('Hearts', 'Diamonds', 'Spades', 'Clubs')\n",
    "ranks = ('Two', 'Three', 'Four', 'Five', 'Six', 'Seven', 'Eight', 'Nine', 'Ten', 'Jack', 'Queen', 'King', 'Ace')\n",
    "values = {'Two':2, 'Three':3, 'Four':4, 'Five':5, 'Six':6, 'Seven':7, 'Eight':8, \n",
    "            'Nine':9, 'Ten':10, 'Jack':10, 'Queen':10, 'King':10, 'Ace':11}\n",
    "class Card():\n",
    "    \n",
    "    def __init__(self,suit,rank):\n",
    "        self.suit = suit\n",
    "        self.rank = rank\n",
    "        self.value = values[rank]\n",
    "        \n",
    "    def __str__(self):\n",
    "        return self.rank + ' of ' + self.suit\n",
    "\n",
    "        "
   ]
  },
  {
   "cell_type": "code",
   "execution_count": 83,
   "metadata": {},
   "outputs": [],
   "source": [
    "class Deck():\n",
    "    def __init__(self):\n",
    "        self.deck=[] \n",
    "        for suit in suits:\n",
    "           for rank in  ranks:\n",
    "                self.deck.append(Card(suit,rank))             \n",
    "    \n",
    "    def shuffle(self): \n",
    "       shuffle(self.deck)\n",
    "\n",
    "    def deal_one(self):\n",
    "        single_card=self.deck.pop()\n",
    "        return single_card\n",
    "    def __str__(self):\n",
    "        pass\n",
    "            \n",
    "        \n",
    "new_deck=Deck()         "
   ]
  },
  {
   "cell_type": "code",
   "execution_count": 93,
   "metadata": {},
   "outputs": [],
   "source": [
    "class Hand:\n",
    "    values = {'Two':2, 'Three':3, 'Four':4, 'Five':5, 'Six':6, 'Seven':7, 'Eight':8, \n",
    "            'Nine':9, 'Ten':10, 'Jack':10, 'Queen':10, 'King':10, 'Ace':11}\n",
    "    def __init__(self):\n",
    "        self.cards = []  # start with an empty list as we did in the Deck class\n",
    "        self.value = 0   # start with zero value\n",
    "        self.aces = 0    # add an attribute to keep track of aces\n",
    "    def addcard(self,card):\n",
    "        self.cards.append(card)\n",
    "        self.value+=values[card.rank] \n",
    "        if card.rank =='Ace':\n",
    "            self.aces+=1  \n",
    "\n",
    "    def adjust_for_ace(self,card):\n",
    "       \n",
    "       while self.value>21 and self.aces:\n",
    "        self.value-=10\n",
    "        self.aces-=1 \n",
    "        "
   ]
  },
  {
   "cell_type": "code",
   "execution_count": 85,
   "metadata": {},
   "outputs": [],
   "source": [
    "class Chips:\n",
    "    \n",
    "    def __init__(self):\n",
    "        self.total = 100  # This can be set to a default value or supplied by a user input\n",
    "        self.bet = 0\n",
    "        \n",
    "    def win_bet(self):\n",
    "        self.total+=self.bet\n",
    "    \n",
    "    def lose_bet(self):\n",
    "        self.total-=self.bet"
   ]
  },
  {
   "cell_type": "code",
   "execution_count": 86,
   "metadata": {},
   "outputs": [],
   "source": [
    "def take_bet(chips):\n",
    "    while True:\n",
    "        try:\n",
    "            chips.bet=int(input('how many chips whould you like to bet?'))\n",
    "        except:\n",
    "            print('sorry please provide an integre')    \n",
    "        else:\n",
    "            if chips.bet>chips.total:\n",
    "                print('sorry! you do not have enough chips')  \n",
    "            else:\n",
    "                break      \n",
    "\n"
   ]
  },
  {
   "cell_type": "code",
   "execution_count": 87,
   "metadata": {},
   "outputs": [],
   "source": [
    "def hit(deck,hand):\n",
    "    single_card=deck.deal_one\n",
    "    hand.addcard(single_card)\n",
    "    hand.adjust_for_ace()"
   ]
  },
  {
   "cell_type": "code",
   "execution_count": 88,
   "metadata": {},
   "outputs": [],
   "source": [
    "def hit_or_stand(deck,hand):\n",
    "    global playing\n",
    "    while True:\n",
    "        x=input('hit or stand..enter h or s:')\n",
    "        if x[0].lower()=='h':\n",
    "            hit(deck,hand)\n",
    "        elif x[0].lower()=='s':\n",
    "            print(\"player stand dealer's turn\")    \n",
    "            playing=False\n",
    "        else:\n",
    "            print('sorry! i did not understand please enter h or s')\n",
    "            continue\n",
    "        break"
   ]
  },
  {
   "cell_type": "code",
   "execution_count": 89,
   "metadata": {},
   "outputs": [],
   "source": [
    "def show_some(player,dealer):\n",
    "    print(\"\\n dealer's hand:\")\n",
    "    print('first card hidden')\n",
    "    print(dealer.cards[1])\n",
    "\n",
    "    print(\"\\n player's hand:\")\n",
    "    for i in player.cards:\n",
    "        print(i)\n",
    "\n",
    "def show_all(player,dealer): \n",
    "    print(\"\\n dealer's hand:\")\n",
    "    for i in dealer.cards:\n",
    "        print(i)\n",
    "    print(f\"value of daeler's hand {dealer.value}\")    \n",
    "    print(\"\\n player's hand:\")\n",
    "    for i in player.cards:\n",
    "        print(i)\n",
    "    print(f\"value of player's hand {player.value}\")    "
   ]
  },
  {
   "cell_type": "code",
   "execution_count": 90,
   "metadata": {},
   "outputs": [],
   "source": [
    "def player_busts(player,dealer,chips):\n",
    "    print('player bust')\n",
    "    chips.lose_bet()\n",
    "\n",
    "def player_wins(player,dealer,chips):\n",
    "    print('player wins')\n",
    "    chips.win_bet()\n",
    "\n",
    "def dealer_busts(player,dealer,chips):\n",
    "    print('player wins,dealer busted')\n",
    "    chips.win_bet()\n",
    "    \n",
    "def dealer_wins(player,dealer,chips):\n",
    "    print('dealer wins')\n",
    "    chips.lose_bet()\n",
    "    \n",
    "def push(player,dealer):\n",
    "    print('dealer and player tie! PUSH')"
   ]
  },
  {
   "cell_type": "code",
   "execution_count": 94,
   "metadata": {},
   "outputs": [
    {
     "name": "stdout",
     "output_type": "stream",
     "text": [
      "Welcome to Blackjack\n"
     ]
    },
    {
     "ename": "AttributeError",
     "evalue": "'function' object has no attribute 'rank'",
     "output_type": "error",
     "traceback": [
      "\u001b[1;31m---------------------------------------------------------------------------\u001b[0m",
      "\u001b[1;31mAttributeError\u001b[0m                            Traceback (most recent call last)",
      "\u001b[1;32md:\\Complete-Python-3-Bootcamp-master\\07-Errors and Exception Handling\\BlackJack.ipynb Cell 10\u001b[0m in \u001b[0;36m<cell line: 1>\u001b[1;34m()\u001b[0m\n\u001b[0;32m      <a href='vscode-notebook-cell:/d%3A/Complete-Python-3-Bootcamp-master/07-Errors%20and%20Exception%20Handling/BlackJack.ipynb#X16sZmlsZQ%3D%3D?line=6'>7</a>\u001b[0m new_deck\u001b[39m.\u001b[39mshuffle()\n\u001b[0;32m      <a href='vscode-notebook-cell:/d%3A/Complete-Python-3-Bootcamp-master/07-Errors%20and%20Exception%20Handling/BlackJack.ipynb#X16sZmlsZQ%3D%3D?line=7'>8</a>\u001b[0m player_hand\u001b[39m=\u001b[39mHand()\n\u001b[1;32m----> <a href='vscode-notebook-cell:/d%3A/Complete-Python-3-Bootcamp-master/07-Errors%20and%20Exception%20Handling/BlackJack.ipynb#X16sZmlsZQ%3D%3D?line=8'>9</a>\u001b[0m player_hand\u001b[39m.\u001b[39;49maddcard(new_deck\u001b[39m.\u001b[39;49mdeal_one)\n\u001b[0;32m     <a href='vscode-notebook-cell:/d%3A/Complete-Python-3-Bootcamp-master/07-Errors%20and%20Exception%20Handling/BlackJack.ipynb#X16sZmlsZQ%3D%3D?line=9'>10</a>\u001b[0m player_hand\u001b[39m.\u001b[39maddcard(new_deck\u001b[39m.\u001b[39mdeal_one)\n\u001b[0;32m     <a href='vscode-notebook-cell:/d%3A/Complete-Python-3-Bootcamp-master/07-Errors%20and%20Exception%20Handling/BlackJack.ipynb#X16sZmlsZQ%3D%3D?line=10'>11</a>\u001b[0m dealer_hand\u001b[39m=\u001b[39mHand()\n",
      "\u001b[1;32md:\\Complete-Python-3-Bootcamp-master\\07-Errors and Exception Handling\\BlackJack.ipynb Cell 10\u001b[0m in \u001b[0;36mHand.addcard\u001b[1;34m(self, card)\u001b[0m\n\u001b[0;32m      <a href='vscode-notebook-cell:/d%3A/Complete-Python-3-Bootcamp-master/07-Errors%20and%20Exception%20Handling/BlackJack.ipynb#X16sZmlsZQ%3D%3D?line=7'>8</a>\u001b[0m \u001b[39mdef\u001b[39;00m \u001b[39maddcard\u001b[39m(\u001b[39mself\u001b[39m,card):\n\u001b[0;32m      <a href='vscode-notebook-cell:/d%3A/Complete-Python-3-Bootcamp-master/07-Errors%20and%20Exception%20Handling/BlackJack.ipynb#X16sZmlsZQ%3D%3D?line=8'>9</a>\u001b[0m     \u001b[39mself\u001b[39m\u001b[39m.\u001b[39mcards\u001b[39m.\u001b[39mappend(card)\n\u001b[1;32m---> <a href='vscode-notebook-cell:/d%3A/Complete-Python-3-Bootcamp-master/07-Errors%20and%20Exception%20Handling/BlackJack.ipynb#X16sZmlsZQ%3D%3D?line=9'>10</a>\u001b[0m     \u001b[39mself\u001b[39m\u001b[39m.\u001b[39mvalue\u001b[39m+\u001b[39m\u001b[39m=\u001b[39mvalues[card\u001b[39m.\u001b[39;49mrank] \n\u001b[0;32m     <a href='vscode-notebook-cell:/d%3A/Complete-Python-3-Bootcamp-master/07-Errors%20and%20Exception%20Handling/BlackJack.ipynb#X16sZmlsZQ%3D%3D?line=10'>11</a>\u001b[0m     \u001b[39mif\u001b[39;00m card\u001b[39m.\u001b[39mrank \u001b[39m==\u001b[39m\u001b[39m'\u001b[39m\u001b[39mAce\u001b[39m\u001b[39m'\u001b[39m:\n\u001b[0;32m     <a href='vscode-notebook-cell:/d%3A/Complete-Python-3-Bootcamp-master/07-Errors%20and%20Exception%20Handling/BlackJack.ipynb#X16sZmlsZQ%3D%3D?line=11'>12</a>\u001b[0m         \u001b[39mself\u001b[39m\u001b[39m.\u001b[39maces\u001b[39m+\u001b[39m\u001b[39m=\u001b[39m\u001b[39m1\u001b[39m\n",
      "\u001b[1;31mAttributeError\u001b[0m: 'function' object has no attribute 'rank'"
     ]
    }
   ],
   "source": [
    "while True:\n",
    "    # Print an opening statement\n",
    "    print('Welcome to Blackjack')\n",
    "    \n",
    "    # Create & shuffle the deck, deal two cards to each player\n",
    "    new_deck=Deck()\n",
    "    new_deck.shuffle()\n",
    "    player_hand=Hand()\n",
    "    player_hand.addcard(new_deck.deal_one)\n",
    "    player_hand.addcard(new_deck.deal_one)\n",
    "    dealer_hand=Hand()\n",
    "    dealer_hand.addcard(new_deck.deal_one)\n",
    "    dealer_hand.addcard(new_deck.deal_one)\n",
    "    \n",
    "        \n",
    "    # Set up the Player's chips\n",
    "    player_chips=Chips()\n",
    "      \n",
    "    \n",
    "    # Prompt the Player for their bet\n",
    "    take_bet(player_chips)\n",
    "    \n",
    "    # Show cards (but keep one dealer card hidden)\n",
    "    show_some(player_hand,dealer_hand)\n",
    "    \n",
    "    while playing:  # recall this variable from our hit_or_stand function\n",
    "        \n",
    "        # Prompt for Player to Hit or Stand\n",
    "        hit_or_stand(new_deck,player_hand)\n",
    "        \n",
    "        # Show cards (but keep one dealer card hidden)\n",
    "        show_some(player_hand,dealer_hand)\n",
    "        \n",
    "        # If player's hand exceeds 21, run player_busts() and break out of loop\n",
    "        if player_hand.value>21:\n",
    "            player_busts(player_hand,dealer_hand,player_chips)\n",
    "\n",
    "            break\n",
    "\n",
    "    # If Player hasn't busted, play Dealer's hand until Dealer reaches 17\n",
    "    if player_hand.value<=21:\n",
    "\n",
    "        while dealer_hand.value<player_hand.value:\n",
    "            hit(new_deck,dealer_hand)\n",
    "    \n",
    "        # Show all cards\n",
    "        show_all(player_hand,dealer_hand)\n",
    "        # Run different winning scenarios\n",
    "        if dealer_hand.value>21:\n",
    "            dealer_busts(player_hand,dealer_hand,player_chips)\n",
    "        elif dealer_hand.value>player_hand.value:\n",
    "            dealer_wins(player_hand,dealer_hand,player_chips)\n",
    "        elif dealer_hand.value<player_hand.value:\n",
    "            player_wins(player_hand,dealer_hand,player_chips)\n",
    "        else:\n",
    "            push(player_hand,dealer_hand)    \n",
    "\n",
    "        \n",
    "    \n",
    "    # Inform Player of their chips total \n",
    "    print(f\"player's total chips are{player_chips.total}\")\n",
    "    # Ask to play again\n",
    "    new_game=input('would you like to play another hand? y/n:')\n",
    "    if new_game.lower()=='y':\n",
    "        playing=True\n",
    "        continue\n",
    "    else:\n",
    "        print('Thank you for playing ')      \n",
    "        break"
   ]
  }
 ],
 "metadata": {
  "kernelspec": {
   "display_name": "Python 3.10.6 64-bit",
   "language": "python",
   "name": "python3"
  },
  "language_info": {
   "codemirror_mode": {
    "name": "ipython",
    "version": 3
   },
   "file_extension": ".py",
   "mimetype": "text/x-python",
   "name": "python",
   "nbconvert_exporter": "python",
   "pygments_lexer": "ipython3",
   "version": "3.10.6"
  },
  "orig_nbformat": 4,
  "vscode": {
   "interpreter": {
    "hash": "3196968d684371006099b3d55edeef8ed90365227a30deaef86e5d4aa8519be0"
   }
  }
 },
 "nbformat": 4,
 "nbformat_minor": 2
}
